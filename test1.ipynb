{
    "cells": [
        {
            "cell_type": "code",
            "execution_count": 1,
            "metadata": {},
            "outputs": [
                {
                    "name": "stdout",
                    "output_type": "stream",
                    "text": "Overwriting test.py\n"
                }
            ],
            "source": "%%writefile test.py\n\ndef hello_world():\n    return \"Hello world!\""
        },
        {
            "cell_type": "code",
            "execution_count": 2,
            "metadata": {},
            "outputs": [
                {
                    "data": {
                        "text/plain": "'Hello world!'"
                    },
                    "execution_count": 2,
                    "metadata": {},
                    "output_type": "execute_result"
                }
            ],
            "source": "import test\n\ntest.hello_world()"
        },
        {
            "cell_type": "code",
            "execution_count": 6,
            "metadata": {},
            "outputs": [
                {
                    "data": {
                        "text/html": "\n        <script>\n            function code_toggle_10130785306077981094() {\n                $('div.cell.code_cell.rendered.selected').find('div.input').toggle();\n            }\n\n            \n        </script>\n\n        <a href=\"javascript:code_toggle_10130785306077981094()\">Toggle show/hide</a>\n    ",
                        "text/plain": "<IPython.core.display.HTML object>"
                    },
                    "execution_count": 6,
                    "metadata": {},
                    "output_type": "execute_result"
                }
            ],
            "source": "from IPython.display import HTML\nimport random\n\ndef hide_toggle(for_next=False):\n    this_cell = \"\"\"$('div.cell.code_cell.rendered.selected')\"\"\"\n    next_cell = this_cell + '.next()'\n\n    toggle_text = 'Toggle show/hide'  # text shown on toggle link\n    target_cell = this_cell  # target cell to control with toggle\n    js_hide_current = ''  # bit of JS to permanently hide code in current cell (only when toggling next cell)\n\n    if for_next:\n        target_cell = next_cell\n        toggle_text += ' next cell'\n        js_hide_current = this_cell + '.find(\"div.input\").hide();'\n\n    js_f_name = 'code_toggle_{}'.format(str(random.randint(1,2**64)))\n\n    html = \"\"\"\n        <script>\n            function {f_name}() {{\n                {cell_selector}.find('div.input').toggle();\n            }}\n\n            {js_hide_current}\n        </script>\n\n        <a href=\"javascript:{f_name}()\">{toggle_text}</a>\n    \"\"\".format(\n        f_name=js_f_name,\n        cell_selector=target_cell,\n        js_hide_current=js_hide_current, \n        toggle_text=toggle_text\n    )\n\n    return HTML(html)\nhide_toggle()"
        },
        {
            "cell_type": "code",
            "execution_count": 7,
            "metadata": {},
            "outputs": [
                {
                    "name": "stdout",
                    "output_type": "stream",
                    "text": "Helen is wack!\n"
                },
                {
                    "data": {
                        "text/html": "\n        <script>\n            function code_toggle_13667225254458358633() {\n                $('div.cell.code_cell.rendered.selected').find('div.input').toggle();\n            }\n\n            \n        </script>\n\n        <a href=\"javascript:code_toggle_13667225254458358633()\">Toggle show/hide</a>\n    ",
                        "text/plain": "<IPython.core.display.HTML object>"
                    },
                    "execution_count": 7,
                    "metadata": {},
                    "output_type": "execute_result"
                }
            ],
            "source": "print(\"Helen is wack!\")\n\nhide_toggle()"
        },
        {
            "cell_type": "code",
            "execution_count": null,
            "metadata": {},
            "outputs": [],
            "source": ""
        }
    ],
    "metadata": {
        "kernelspec": {
            "display_name": "Python 3.6",
            "language": "python",
            "name": "python3"
        },
        "language_info": {
            "codemirror_mode": {
                "name": "ipython",
                "version": 3
            },
            "file_extension": ".py",
            "mimetype": "text/x-python",
            "name": "python",
            "nbconvert_exporter": "python",
            "pygments_lexer": "ipython3",
            "version": "3.6.9"
        }
    },
    "nbformat": 4,
    "nbformat_minor": 1
}